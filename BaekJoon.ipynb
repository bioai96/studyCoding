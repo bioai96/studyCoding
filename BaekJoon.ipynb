{
  "nbformat": 4,
  "nbformat_minor": 0,
  "metadata": {
    "colab": {
      "name": "BaekJoon",
      "provenance": [],
      "collapsed_sections": [],
      "authorship_tag": "ABX9TyNiGUZV5WVcIpTYKevWfZGI",
      "include_colab_link": true
    },
    "kernelspec": {
      "name": "python3",
      "display_name": "Python 3"
    },
    "language_info": {
      "name": "python"
    }
  },
  "cells": [
    {
      "cell_type": "markdown",
      "metadata": {
        "id": "view-in-github",
        "colab_type": "text"
      },
      "source": [
        "<a href=\"https://colab.research.google.com/github/bioai96/studyCoding/blob/main/BaekJoon.ipynb\" target=\"_parent\"><img src=\"https://colab.research.google.com/assets/colab-badge.svg\" alt=\"Open In Colab\"/></a>"
      ]
    },
    {
      "cell_type": "code",
      "execution_count": null,
      "metadata": {
        "id": "Ie69W-EfiHhs"
      },
      "outputs": [],
      "source": [
        "#10707 \n",
        "A = int(input(\"A :\"))\n",
        "B = int(input(\"B :\"))\n",
        "C = int(input(\"C :\"))\n",
        "D = int(input(\"D :\"))\n",
        "P = int(input(\"P :\"))\n",
        "\n",
        "X_fare = P*A\n",
        "\n",
        "if P<=C :\n",
        "  Y_fare = B\n",
        "else :\n",
        "  Y_fare = B + (P-C)*D\n",
        "\n",
        "print(min(X_fare,Y_fare))\n",
        "\n",
        "\n"
      ]
    },
    {
      "cell_type": "code",
      "source": [
        "#10039\n",
        "A = int(input())\n",
        "B = int(input())\n",
        "C = int(input())\n",
        "D = int(input())\n",
        "E = int(input())\n",
        "\n",
        "if A < 40 :\n",
        "    A = 40\n",
        "if B < 40 :\n",
        "    B = 40\n",
        "if C < 40 :\n",
        "    C = 40\n",
        "if D < 40 :\n",
        "    D = 40\n",
        "if E < 40 :\n",
        "    E = 40\n",
        "\n",
        "print(int((A+B+C+D+E)/5))\n"
      ],
      "metadata": {
        "id": "D0EtgBR1ipfw"
      },
      "execution_count": null,
      "outputs": []
    },
    {
      "cell_type": "code",
      "source": [
        "#10808\n",
        "S = input()\n",
        "\n",
        "li = [0 for _ in range(27)]\n",
        "\n",
        "for s in S :\n",
        "  li[ord(s)-97]+=1\n",
        "for i in range(26):\n",
        "  print(li[i], end= \" \")\n",
        "\n",
        "#   if I == 'a' :\n",
        "#     a += 1\n",
        "#   if I == 'b' :\n",
        "#     b += 1\n",
        "#   if I == 'c' :\n",
        "#     c += 1\n",
        "#   if I == 'd' :\n",
        "#     d += 1\n",
        "#   if I == 'e' :\n",
        "#     e += 1\n",
        "#   if I == 'f' :\n",
        "#     f += 1\n",
        "#   if I == 'g' :\n",
        "#     g += 1\n",
        "#   if I == 'h' :\n",
        "#     h += 1\n",
        "#   if I == 'i' :\n",
        "#     i += 1\n",
        "#   if I == 'j' :\n",
        "#     j += 1\n",
        "#   if I == 'k' :\n",
        "#     k += 1\n",
        "#   if I == 'l' :\n",
        "#     l += 1\n",
        "#   if I == 'm' :\n",
        "#     m += 1\n",
        "#   if I == 'n' :\n",
        "#     n += 1\n",
        "#   if I == 'o' :\n",
        "#     o += 1\n",
        "#   if I == 'p' :\n",
        "#     p += 1\n",
        "#   if I == 'q' :\n",
        "#     q += 1\n",
        "#   if I == 'r' :\n",
        "#     r += 1\n",
        "#   if I == 's' :\n",
        "#     s += 1\n",
        "#   if I == 't' :\n",
        "#     t += 1\n",
        "#   if I == 'u' :\n",
        "#     u += 1\n",
        "#   if I == 'v' :\n",
        "#     v += 1\n",
        "#   if I == 'w' :\n",
        "#     w += 1\n",
        "#   if I == 'x' :\n",
        "#     x += 1\n",
        "#   if I == 'y' :\n",
        "#     y += 1\n",
        "#   if I == 'z' :\n",
        "#     z += 1\n",
        "\n",
        "# print(a, end=' ')\n",
        "# print(b, end=' ')\n",
        "# print(c, end=' ')\n",
        "# print(d, end=' ')\n",
        "# print(e, end=' ')\n",
        "# print(f, end=' ')\n",
        "# print(g, end=' ')\n",
        "# print(h, end=' ')\n",
        "# print(i, end=' ')\n",
        "# print(j, end=' ')\n",
        "# print(k, end=' ')\n",
        "# print(l, end=' ')\n",
        "# print(m, end=' ')\n",
        "# print(n, end=' ')\n",
        "# print(o, end=' ')\n",
        "# print(p, end=' ')\n",
        "# print(q, end=' ')\n",
        "# print(r, end=' ')\n",
        "# print(s, end=' ')\n",
        "# print(t, end=' ')\n",
        "# print(u, end=' ')\n",
        "# print(v, end=' ')\n",
        "# print(w, end=' ')\n",
        "# print(x, end=' ')\n",
        "# print(y, end=' ')\n",
        "# print(z, end=' ')\n"
      ],
      "metadata": {
        "id": "nAIbGRLzAWzg",
        "colab": {
          "base_uri": "https://localhost:8080/"
        },
        "outputId": "663dc0ba-8afb-4c07-ec2a-49e55af1d3ac"
      },
      "execution_count": null,
      "outputs": [
        {
          "output_type": "stream",
          "name": "stdout",
          "text": [
            "baekjoon\n",
            "1 1 0 0 1 0 0 0 0 1 1 0 0 1 2 0 0 0 0 0 0 0 0 0 0 0 "
          ]
        }
      ]
    },
    {
      "cell_type": "code",
      "source": [
        "#2902\n",
        "name = input()\n",
        "name_s = name.split('-')\n",
        "lst = []\n",
        "for i in name_s :\n",
        "  lst.append(i[0])\n",
        "print(''.join(lst))\n"
      ],
      "metadata": {
        "colab": {
          "base_uri": "https://localhost:8080/",
          "height": 559
        },
        "id": "6tKxYT1QoV__",
        "outputId": "a7170898-dd9e-4247-974c-af4450237485"
      },
      "execution_count": null,
      "outputs": [
        {
          "output_type": "error",
          "ename": "KeyboardInterrupt",
          "evalue": "ignored",
          "traceback": [
            "\u001b[0;31m---------------------------------------------------------------------------\u001b[0m",
            "\u001b[0;31mKeyboardInterrupt\u001b[0m                         Traceback (most recent call last)",
            "\u001b[0;32m/usr/local/lib/python3.7/dist-packages/ipykernel/kernelbase.py\u001b[0m in \u001b[0;36m_input_request\u001b[0;34m(self, prompt, ident, parent, password)\u001b[0m\n\u001b[1;32m    728\u001b[0m             \u001b[0;32mtry\u001b[0m\u001b[0;34m:\u001b[0m\u001b[0;34m\u001b[0m\u001b[0;34m\u001b[0m\u001b[0m\n\u001b[0;32m--> 729\u001b[0;31m                 \u001b[0mident\u001b[0m\u001b[0;34m,\u001b[0m \u001b[0mreply\u001b[0m \u001b[0;34m=\u001b[0m \u001b[0mself\u001b[0m\u001b[0;34m.\u001b[0m\u001b[0msession\u001b[0m\u001b[0;34m.\u001b[0m\u001b[0mrecv\u001b[0m\u001b[0;34m(\u001b[0m\u001b[0mself\u001b[0m\u001b[0;34m.\u001b[0m\u001b[0mstdin_socket\u001b[0m\u001b[0;34m,\u001b[0m \u001b[0;36m0\u001b[0m\u001b[0;34m)\u001b[0m\u001b[0;34m\u001b[0m\u001b[0;34m\u001b[0m\u001b[0m\n\u001b[0m\u001b[1;32m    730\u001b[0m             \u001b[0;32mexcept\u001b[0m \u001b[0mException\u001b[0m\u001b[0;34m:\u001b[0m\u001b[0;34m\u001b[0m\u001b[0;34m\u001b[0m\u001b[0m\n",
            "\u001b[0;32m/usr/local/lib/python3.7/dist-packages/jupyter_client/session.py\u001b[0m in \u001b[0;36mrecv\u001b[0;34m(self, socket, mode, content, copy)\u001b[0m\n\u001b[1;32m    802\u001b[0m         \u001b[0;32mtry\u001b[0m\u001b[0;34m:\u001b[0m\u001b[0;34m\u001b[0m\u001b[0;34m\u001b[0m\u001b[0m\n\u001b[0;32m--> 803\u001b[0;31m             \u001b[0mmsg_list\u001b[0m \u001b[0;34m=\u001b[0m \u001b[0msocket\u001b[0m\u001b[0;34m.\u001b[0m\u001b[0mrecv_multipart\u001b[0m\u001b[0;34m(\u001b[0m\u001b[0mmode\u001b[0m\u001b[0;34m,\u001b[0m \u001b[0mcopy\u001b[0m\u001b[0;34m=\u001b[0m\u001b[0mcopy\u001b[0m\u001b[0;34m)\u001b[0m\u001b[0;34m\u001b[0m\u001b[0;34m\u001b[0m\u001b[0m\n\u001b[0m\u001b[1;32m    804\u001b[0m         \u001b[0;32mexcept\u001b[0m \u001b[0mzmq\u001b[0m\u001b[0;34m.\u001b[0m\u001b[0mZMQError\u001b[0m \u001b[0;32mas\u001b[0m \u001b[0me\u001b[0m\u001b[0;34m:\u001b[0m\u001b[0;34m\u001b[0m\u001b[0;34m\u001b[0m\u001b[0m\n",
            "\u001b[0;32m/usr/local/lib/python3.7/dist-packages/zmq/sugar/socket.py\u001b[0m in \u001b[0;36mrecv_multipart\u001b[0;34m(self, flags, copy, track)\u001b[0m\n\u001b[1;32m    726\u001b[0m         \"\"\"\n\u001b[0;32m--> 727\u001b[0;31m         \u001b[0mparts\u001b[0m \u001b[0;34m=\u001b[0m \u001b[0;34m[\u001b[0m\u001b[0mself\u001b[0m\u001b[0;34m.\u001b[0m\u001b[0mrecv\u001b[0m\u001b[0;34m(\u001b[0m\u001b[0mflags\u001b[0m\u001b[0;34m,\u001b[0m \u001b[0mcopy\u001b[0m\u001b[0;34m=\u001b[0m\u001b[0mcopy\u001b[0m\u001b[0;34m,\u001b[0m \u001b[0mtrack\u001b[0m\u001b[0;34m=\u001b[0m\u001b[0mtrack\u001b[0m\u001b[0;34m)\u001b[0m\u001b[0;34m]\u001b[0m\u001b[0;34m\u001b[0m\u001b[0;34m\u001b[0m\u001b[0m\n\u001b[0m\u001b[1;32m    728\u001b[0m         \u001b[0;31m# have first part already, only loop while more to receive\u001b[0m\u001b[0;34m\u001b[0m\u001b[0;34m\u001b[0m\u001b[0;34m\u001b[0m\u001b[0m\n",
            "\u001b[0;32mzmq/backend/cython/socket.pyx\u001b[0m in \u001b[0;36mzmq.backend.cython.socket.Socket.recv\u001b[0;34m()\u001b[0m\n",
            "\u001b[0;32mzmq/backend/cython/socket.pyx\u001b[0m in \u001b[0;36mzmq.backend.cython.socket.Socket.recv\u001b[0;34m()\u001b[0m\n",
            "\u001b[0;32mzmq/backend/cython/socket.pyx\u001b[0m in \u001b[0;36mzmq.backend.cython.socket._recv_copy\u001b[0;34m()\u001b[0m\n",
            "\u001b[0;32m/usr/local/lib/python3.7/dist-packages/zmq/backend/cython/checkrc.pxd\u001b[0m in \u001b[0;36mzmq.backend.cython.checkrc._check_rc\u001b[0;34m()\u001b[0m\n",
            "\u001b[0;31mKeyboardInterrupt\u001b[0m: ",
            "\nDuring handling of the above exception, another exception occurred:\n",
            "\u001b[0;31mKeyboardInterrupt\u001b[0m                         Traceback (most recent call last)",
            "\u001b[0;32m<ipython-input-5-c80facf4dce2>\u001b[0m in \u001b[0;36m<module>\u001b[0;34m()\u001b[0m\n\u001b[1;32m      1\u001b[0m \u001b[0;31m#2902\u001b[0m\u001b[0;34m\u001b[0m\u001b[0;34m\u001b[0m\u001b[0;34m\u001b[0m\u001b[0m\n\u001b[0;32m----> 2\u001b[0;31m \u001b[0mname\u001b[0m \u001b[0;34m=\u001b[0m \u001b[0minput\u001b[0m\u001b[0;34m(\u001b[0m\u001b[0;34m)\u001b[0m\u001b[0;34m\u001b[0m\u001b[0;34m\u001b[0m\u001b[0m\n\u001b[0m\u001b[1;32m      3\u001b[0m \u001b[0mname_s\u001b[0m \u001b[0;34m=\u001b[0m \u001b[0mname\u001b[0m\u001b[0;34m.\u001b[0m\u001b[0msplit\u001b[0m\u001b[0;34m(\u001b[0m\u001b[0;34m'-'\u001b[0m\u001b[0;34m)\u001b[0m\u001b[0;34m\u001b[0m\u001b[0;34m\u001b[0m\u001b[0m\n\u001b[1;32m      4\u001b[0m \u001b[0mlst\u001b[0m \u001b[0;34m=\u001b[0m \u001b[0;34m[\u001b[0m\u001b[0;34m]\u001b[0m\u001b[0;34m\u001b[0m\u001b[0;34m\u001b[0m\u001b[0m\n\u001b[1;32m      5\u001b[0m \u001b[0;32mfor\u001b[0m \u001b[0mi\u001b[0m \u001b[0;32min\u001b[0m \u001b[0mname_s\u001b[0m \u001b[0;34m:\u001b[0m\u001b[0;34m\u001b[0m\u001b[0;34m\u001b[0m\u001b[0m\n",
            "\u001b[0;32m/usr/local/lib/python3.7/dist-packages/ipykernel/kernelbase.py\u001b[0m in \u001b[0;36mraw_input\u001b[0;34m(self, prompt)\u001b[0m\n\u001b[1;32m    702\u001b[0m             \u001b[0mself\u001b[0m\u001b[0;34m.\u001b[0m\u001b[0m_parent_ident\u001b[0m\u001b[0;34m,\u001b[0m\u001b[0;34m\u001b[0m\u001b[0;34m\u001b[0m\u001b[0m\n\u001b[1;32m    703\u001b[0m             \u001b[0mself\u001b[0m\u001b[0;34m.\u001b[0m\u001b[0m_parent_header\u001b[0m\u001b[0;34m,\u001b[0m\u001b[0;34m\u001b[0m\u001b[0;34m\u001b[0m\u001b[0m\n\u001b[0;32m--> 704\u001b[0;31m             \u001b[0mpassword\u001b[0m\u001b[0;34m=\u001b[0m\u001b[0;32mFalse\u001b[0m\u001b[0;34m,\u001b[0m\u001b[0;34m\u001b[0m\u001b[0;34m\u001b[0m\u001b[0m\n\u001b[0m\u001b[1;32m    705\u001b[0m         )\n\u001b[1;32m    706\u001b[0m \u001b[0;34m\u001b[0m\u001b[0m\n",
            "\u001b[0;32m/usr/local/lib/python3.7/dist-packages/ipykernel/kernelbase.py\u001b[0m in \u001b[0;36m_input_request\u001b[0;34m(self, prompt, ident, parent, password)\u001b[0m\n\u001b[1;32m    732\u001b[0m             \u001b[0;32mexcept\u001b[0m \u001b[0mKeyboardInterrupt\u001b[0m\u001b[0;34m:\u001b[0m\u001b[0;34m\u001b[0m\u001b[0;34m\u001b[0m\u001b[0m\n\u001b[1;32m    733\u001b[0m                 \u001b[0;31m# re-raise KeyboardInterrupt, to truncate traceback\u001b[0m\u001b[0;34m\u001b[0m\u001b[0;34m\u001b[0m\u001b[0;34m\u001b[0m\u001b[0m\n\u001b[0;32m--> 734\u001b[0;31m                 \u001b[0;32mraise\u001b[0m \u001b[0mKeyboardInterrupt\u001b[0m\u001b[0;34m\u001b[0m\u001b[0;34m\u001b[0m\u001b[0m\n\u001b[0m\u001b[1;32m    735\u001b[0m             \u001b[0;32melse\u001b[0m\u001b[0;34m:\u001b[0m\u001b[0;34m\u001b[0m\u001b[0;34m\u001b[0m\u001b[0m\n\u001b[1;32m    736\u001b[0m                 \u001b[0;32mbreak\u001b[0m\u001b[0;34m\u001b[0m\u001b[0;34m\u001b[0m\u001b[0m\n",
            "\u001b[0;31mKeyboardInterrupt\u001b[0m: "
          ]
        }
      ]
    },
    {
      "cell_type": "code",
      "source": [
        "#2864\n",
        "#A, B = input().split()\n",
        "def num_list(A):\n",
        "    return list(map(int,str(A)))\n",
        "\n",
        "def five2six(A):\n",
        "    for i in A :\n",
        "      if i == 5 :\n",
        "        A.remove(5)\n",
        "        A.append(6)\n",
        "        return A\n",
        "\n",
        "def six2five(A):\n",
        "    for i in A :\n",
        "      if i == 6 :\n",
        "        A.remove(6)\n",
        "        A.append(5)\n",
        "        return A\n",
        "def num_join(A):\n",
        "    int(''.join(A))\n",
        "A = 15\n",
        "A1 = num_join(five2six(num_list(A)))\n",
        "A1\n",
        "#A2 = six2five(num_list(A))\n",
        "#B1 = five2six(num_list(B))\n",
        "#B2 = six2five(num_list(B))\n",
        "\n",
        "def num_list(A):\n",
        "    return list(map(int,str(A)))\n",
        "\n",
        "def five2six(A):\n",
        "    for i in A :\n",
        "      if i == 5 :\n",
        "        A.remove(5)\n",
        "        A.append(6)\n",
        "        return A\n",
        "\n",
        "def six2five(A):\n",
        "    for i in A :\n",
        "      if i == 6 :\n",
        "        A.remove(6)\n",
        "        A.append(5)\n",
        "        return A\n",
        "def num_join(A):\n",
        "    int(''.join(A))\n",
        "\n",
        "A = 123\n",
        "#num_list(A)\n",
        "\n",
        "def num2str():\n",
        "    lst=[]\n",
        "    for i in num_list(A):\n",
        "        lst.append(str(i))\n",
        "        return lst\n",
        "\n",
        "\n",
        "num2str  \n",
        "\n"
      ],
      "metadata": {
        "colab": {
          "base_uri": "https://localhost:8080/",
          "height": 372
        },
        "id": "XQg0nnNNrhsr",
        "outputId": "dab854d6-8f3f-41b9-bb7b-7d25aa4c0f5d"
      },
      "execution_count": null,
      "outputs": [
        {
          "output_type": "error",
          "ename": "TypeError",
          "evalue": "ignored",
          "traceback": [
            "\u001b[0;31m---------------------------------------------------------------------------\u001b[0m",
            "\u001b[0;31mTypeError\u001b[0m                                 Traceback (most recent call last)",
            "\u001b[0;32m<ipython-input-72-620018b4deff>\u001b[0m in \u001b[0;36m<module>\u001b[0;34m()\u001b[0m\n\u001b[1;32m     20\u001b[0m     \u001b[0mint\u001b[0m\u001b[0;34m(\u001b[0m\u001b[0;34m''\u001b[0m\u001b[0;34m.\u001b[0m\u001b[0mjoin\u001b[0m\u001b[0;34m(\u001b[0m\u001b[0mA\u001b[0m\u001b[0;34m)\u001b[0m\u001b[0;34m)\u001b[0m\u001b[0;34m\u001b[0m\u001b[0;34m\u001b[0m\u001b[0m\n\u001b[1;32m     21\u001b[0m \u001b[0mA\u001b[0m \u001b[0;34m=\u001b[0m \u001b[0;36m15\u001b[0m\u001b[0;34m\u001b[0m\u001b[0;34m\u001b[0m\u001b[0m\n\u001b[0;32m---> 22\u001b[0;31m \u001b[0mA1\u001b[0m \u001b[0;34m=\u001b[0m \u001b[0mnum_join\u001b[0m\u001b[0;34m(\u001b[0m\u001b[0mfive2six\u001b[0m\u001b[0;34m(\u001b[0m\u001b[0mnum_list\u001b[0m\u001b[0;34m(\u001b[0m\u001b[0mA\u001b[0m\u001b[0;34m)\u001b[0m\u001b[0;34m)\u001b[0m\u001b[0;34m)\u001b[0m\u001b[0;34m\u001b[0m\u001b[0;34m\u001b[0m\u001b[0m\n\u001b[0m\u001b[1;32m     23\u001b[0m \u001b[0mA1\u001b[0m\u001b[0;34m\u001b[0m\u001b[0;34m\u001b[0m\u001b[0m\n\u001b[1;32m     24\u001b[0m \u001b[0;31m#A2 = six2five(num_list(A))\u001b[0m\u001b[0;34m\u001b[0m\u001b[0;34m\u001b[0m\u001b[0;34m\u001b[0m\u001b[0m\n",
            "\u001b[0;32m<ipython-input-72-620018b4deff>\u001b[0m in \u001b[0;36mnum_join\u001b[0;34m(A)\u001b[0m\n\u001b[1;32m     18\u001b[0m         \u001b[0;32mreturn\u001b[0m \u001b[0mA\u001b[0m\u001b[0;34m\u001b[0m\u001b[0;34m\u001b[0m\u001b[0m\n\u001b[1;32m     19\u001b[0m \u001b[0;32mdef\u001b[0m \u001b[0mnum_join\u001b[0m\u001b[0;34m(\u001b[0m\u001b[0mA\u001b[0m\u001b[0;34m)\u001b[0m\u001b[0;34m:\u001b[0m\u001b[0;34m\u001b[0m\u001b[0;34m\u001b[0m\u001b[0m\n\u001b[0;32m---> 20\u001b[0;31m     \u001b[0mint\u001b[0m\u001b[0;34m(\u001b[0m\u001b[0;34m''\u001b[0m\u001b[0;34m.\u001b[0m\u001b[0mjoin\u001b[0m\u001b[0;34m(\u001b[0m\u001b[0mA\u001b[0m\u001b[0;34m)\u001b[0m\u001b[0;34m)\u001b[0m\u001b[0;34m\u001b[0m\u001b[0;34m\u001b[0m\u001b[0m\n\u001b[0m\u001b[1;32m     21\u001b[0m \u001b[0mA\u001b[0m \u001b[0;34m=\u001b[0m \u001b[0;36m15\u001b[0m\u001b[0;34m\u001b[0m\u001b[0;34m\u001b[0m\u001b[0m\n\u001b[1;32m     22\u001b[0m \u001b[0mA1\u001b[0m \u001b[0;34m=\u001b[0m \u001b[0mnum_join\u001b[0m\u001b[0;34m(\u001b[0m\u001b[0mfive2six\u001b[0m\u001b[0;34m(\u001b[0m\u001b[0mnum_list\u001b[0m\u001b[0;34m(\u001b[0m\u001b[0mA\u001b[0m\u001b[0;34m)\u001b[0m\u001b[0;34m)\u001b[0m\u001b[0;34m)\u001b[0m\u001b[0;34m\u001b[0m\u001b[0;34m\u001b[0m\u001b[0m\n",
            "\u001b[0;31mTypeError\u001b[0m: sequence item 0: expected str instance, int found"
          ]
        }
      ]
    },
    {
      "cell_type": "code",
      "source": [
        "#5598\n",
        "word = input()\n",
        "lst_word = list(word)\n",
        "Alphabet = ['A','B','C','D','E','F','G','H','I','J','K','L','M','N','O','P','Q','R','S','T','U','V','W','X','Y','Z']\n",
        "decode = []\n",
        "for i in lst_word :\n",
        "  if i == 'A':\n",
        "    decode.append('X')\n",
        "  elif i == 'B' :\n",
        "    decode.append('Y')\n",
        "  elif i == 'C' :\n",
        "    decode.append('Z')\n",
        "  else :\n",
        "    for k in range(len(Alphabet)) :\n",
        "      if i == Alphabet[k] :\n",
        "        decode.append(Alphabet[k-3])\n",
        "\n",
        "print(''.join(decode))\n",
        "\n",
        "\n",
        "\n",
        "\n",
        "\n"
      ],
      "metadata": {
        "colab": {
          "base_uri": "https://localhost:8080/"
        },
        "id": "xriE9EhFuDN_",
        "outputId": "23fabb27-e1e5-4507-bb2b-79b45deca689"
      },
      "execution_count": null,
      "outputs": [
        {
          "output_type": "stream",
          "name": "stdout",
          "text": [
            "FURDWLD\n",
            "CROATIA\n"
          ]
        }
      ]
    },
    {
      "cell_type": "code",
      "source": [
        "#2163\n",
        "N, M = input().split()\n",
        "n = int(N)\n",
        "m = int(M)\n",
        "cal = (m-1) + (n-1)*m\n",
        "print(cal)"
      ],
      "metadata": {
        "colab": {
          "base_uri": "https://localhost:8080/"
        },
        "id": "IlN-NH_ax6iz",
        "outputId": "2cc44048-834f-4ad0-fee3-aa800c7af832"
      },
      "execution_count": null,
      "outputs": [
        {
          "output_type": "stream",
          "name": "stdout",
          "text": [
            "1 1\n",
            "0\n"
          ]
        }
      ]
    },
    {
      "cell_type": "code",
      "source": [
        "#3046\n",
        "R1, S = input().split()\n",
        "r1 = int(R1)\n",
        "s = int(S)\n",
        "R2 = 2*s - r1\n",
        "print(R2)"
      ],
      "metadata": {
        "colab": {
          "base_uri": "https://localhost:8080/"
        },
        "id": "WT6ymM68yAcG",
        "outputId": "91e33407-c62d-4641-bd91-a9f7714b7c77"
      },
      "execution_count": null,
      "outputs": [
        {
          "output_type": "stream",
          "name": "stdout",
          "text": [
            "4 3\n",
            "2\n"
          ]
        }
      ]
    },
    {
      "cell_type": "code",
      "source": [
        "#2525\n",
        "A, B= input().split()\n",
        "tC = int(input())\n",
        "tA = int(A)\n",
        "tB = int(B)\n",
        "hour = 0\n",
        "min = 0\n",
        "if tB + tC >= 60 :\n",
        "    hour += (tB + tC)//60\n",
        "    min +=  (tB + tC)%60\n",
        "    t_hour = tA + hour\n",
        "    t_min = min\n",
        "else :\n",
        "  t_hour = tA\n",
        "  t_min = tB+tC\n",
        "if t_hour >= 24 :\n",
        "  t_hour -= 24\n",
        "print(t_hour,end = ' ')\n",
        "print(t_min)"
      ],
      "metadata": {
        "id": "cdz1_ZZ_Ef4i",
        "colab": {
          "base_uri": "https://localhost:8080/"
        },
        "outputId": "0796f731-0b8d-4735-8f40-4007e2d23268"
      },
      "execution_count": null,
      "outputs": [
        {
          "output_type": "stream",
          "name": "stdout",
          "text": [
            "23 48\n",
            "25\n",
            "0 13\n"
          ]
        }
      ]
    },
    {
      "cell_type": "code",
      "source": [
        "#2530\n",
        "A, B, C=  input().split()\n",
        "tD = int(input())\n",
        "tA = int(A)\n",
        "tB = int(B)\n",
        "tC = int(C)\n",
        "hour = 0\n",
        "min = 0\n",
        "sec = 0\n",
        "if tC + tD >= 60 :  \n",
        "    min += (tC + tD)//60\n",
        "    sec += (tC + tD)%60\n",
        "    t_min = tB + min\n",
        "    t_sec = sec\n",
        "    if t_min >= 60:\n",
        "      hour += t_min//60\n",
        "      t_min = t_min%60\n",
        "      t_hour = tA + hour\n",
        "else:\n",
        "    t_hour = tA\n",
        "    t_min = tB\n",
        "    t_sec = tC+tD\n",
        "if t_hour >= 24 :\n",
        "    t_hour -= 24\n",
        "print(t_hour,end = ' ')\n",
        "print(t_min,end = ' ')\n",
        "print(t_sec)"
      ],
      "metadata": {
        "id": "NXWC8QwPEpdU",
        "colab": {
          "base_uri": "https://localhost:8080/"
        },
        "outputId": "74139c54-a170-4ea5-8ff6-41e5a8460e49"
      },
      "execution_count": null,
      "outputs": [
        {
          "output_type": "stream",
          "name": "stdout",
          "text": [
            "17 40 45\n",
            "100000\n",
            "21 27 25\n"
          ]
        }
      ]
    },
    {
      "cell_type": "code",
      "source": [
        "#5355\n",
        "T = int(input())\n",
        "for i in range(T):\n",
        "  mars = list(map(str,input().split()))\n",
        "  answer = 0\n",
        "  for j in range(len(mars))  :\n",
        "    if j == 0:\n",
        "      answer += float(mars[j])\n",
        "    else :\n",
        "      if mars[j] == '@' :\n",
        "        answer *= 3\n",
        "      elif mars[j] == '%' :\n",
        "        answer += 5\n",
        "      elif mars[j] == '#' :\n",
        "        answer -= 7\n",
        "\n",
        "  print(\"%0.2f\" % answer)\n",
        "\n"
      ],
      "metadata": {
        "colab": {
          "base_uri": "https://localhost:8080/"
        },
        "id": "kSaBYx7Aopf_",
        "outputId": "e72ac1f7-59d5-49dd-8151-8f4c28d59407"
      },
      "execution_count": null,
      "outputs": [
        {
          "output_type": "stream",
          "name": "stdout",
          "text": [
            "3\n",
            "3 @ %\n",
            "14.00\n",
            "10.4 # % @\n",
            "25.20\n",
            "8 #\n",
            "1.00\n"
          ]
        }
      ]
    },
    {
      "cell_type": "code",
      "source": [
        "T = int(input())\n",
        "for i in range(T):\n",
        "    mars = list(map(str,input().split()))\n",
        "    answer = 0\n",
        "    answer_lst = []\n",
        "    for j in range(len(mars))  :\n",
        "      if j == 0:\n",
        "        answer += float(mars[j])\n",
        "    \n",
        "      else :\n",
        "        if mars[j] == '@' :\n",
        "          answer *= 3\n",
        "        elif mars[j] == '%' :\n",
        "          answer += 5\n",
        "        elif mars[j] == '#' :\n",
        "          answer -= 7\n",
        "\n",
        "      answer_lst.append(answer)\n",
        "\n",
        "answer_lst\n",
        "#for i in answer_lst :\n",
        "  #print(\"%0.2f\" % i)\n"
      ],
      "metadata": {
        "colab": {
          "base_uri": "https://localhost:8080/"
        },
        "id": "olhDjX2ktsly",
        "outputId": "352b2d65-9a35-4491-c5bf-39447ab14401"
      },
      "execution_count": null,
      "outputs": [
        {
          "name": "stdout",
          "output_type": "stream",
          "text": [
            "3\n",
            "3 @ %\n",
            "10.4 # % @\n",
            "8 #\n"
          ]
        },
        {
          "output_type": "execute_result",
          "data": {
            "text/plain": [
              "[8.0, 1.0]"
            ]
          },
          "metadata": {},
          "execution_count": 15
        }
      ]
    },
    {
      "cell_type": "code",
      "source": [
        "#2675\n",
        "T = int(input())\n",
        "answer = []\n",
        "for _ in range(T):\n",
        "    R, S = input().split()\n",
        "    r = int(R)\n",
        "    s = list(S)\n",
        "    for i in range(len(s)) :\n",
        "       answer.append(s[i]*r)\n",
        "       answer_1 = ''.join(answer)\n",
        "    \n",
        "    answer_2 = ''.join(answer_1)\n",
        "    print(answer_2)\n",
        "    answer = []\n",
        "    answer_1 = []\n",
        "    answer_2 = []\n",
        "    \n",
        "\n"
      ],
      "metadata": {
        "id": "w1EouSPv0Vk8",
        "colab": {
          "base_uri": "https://localhost:8080/"
        },
        "outputId": "f6afcbba-8505-4fe9-fce0-29e51906bdd0"
      },
      "execution_count": null,
      "outputs": [
        {
          "output_type": "stream",
          "name": "stdout",
          "text": [
            "2\n",
            "3 ABC\n",
            "AAABBBCCC\n",
            "5 /HTP\n",
            "/////HHHHHTTTTTPPPPP\n"
          ]
        }
      ]
    },
    {
      "cell_type": "code",
      "source": [
        "#2935\n",
        "A = int(input())\n",
        "cal = input()\n",
        "B = int(input())\n",
        "if cal == '+' :\n",
        "  print(A+B)\n",
        "if cal ==  '*' :\n",
        "  print((A*B))\n"
      ],
      "metadata": {
        "colab": {
          "base_uri": "https://localhost:8080/"
        },
        "id": "LrFKOUAwHThb",
        "outputId": "45758213-64c1-4b08-e120-398aa8cd6563"
      },
      "execution_count": null,
      "outputs": [
        {
          "output_type": "stream",
          "name": "stdout",
          "text": [
            "10\n",
            "+\n",
            "1000\n",
            "1010\n"
          ]
        }
      ]
    },
    {
      "cell_type": "code",
      "source": [
        "#11653\n",
        "N = int(input())\n",
        "for i in range(N+1) :\n",
        "  if i == 0 :\n",
        "    continue\n",
        "  elif i == 1 :\n",
        "    continue\n",
        "  elif N%i==0 : \n",
        "    for k in range(N+1) :\n",
        "      if N%i == 0 :\n",
        "        print(i)\n",
        "        N //= i\n",
        "\n"
      ],
      "metadata": {
        "id": "eOpA56J0Hn_p",
        "colab": {
          "base_uri": "https://localhost:8080/"
        },
        "outputId": "7a1fb532-c2fd-4ced-f392-d80b6dedf60d"
      },
      "execution_count": null,
      "outputs": [
        {
          "output_type": "stream",
          "name": "stdout",
          "text": [
            "96\n",
            "2\n",
            "2\n",
            "2\n",
            "2\n",
            "2\n",
            "3\n"
          ]
        }
      ]
    },
    {
      "cell_type": "code",
      "source": [
        "#1934\n",
        "def gdc(x,y):\n",
        "  while y>0 :\n",
        "    x,y = y,x%y\n",
        "  return x \n",
        "\n",
        "def lcm(x,y):\n",
        "  return x*y // gdc(x,y)\n",
        "\n",
        "T = int(input())\n",
        "for _ in range(T):\n",
        "  A,B = map(int,input().split())\n",
        "  print(lcm(A,B))\n",
        "\n",
        "  \n",
        "\n",
        "\n"
      ],
      "metadata": {
        "colab": {
          "base_uri": "https://localhost:8080/"
        },
        "id": "tXA9fnIhV8RC",
        "outputId": "28175404-78a5-43e8-ce35-e4c8db86cede"
      },
      "execution_count": null,
      "outputs": [
        {
          "output_type": "stream",
          "name": "stdout",
          "text": [
            "3\n",
            "1 45000\n",
            "45000\n",
            "6 10\n",
            "30\n",
            "13 17\n",
            "221\n"
          ]
        }
      ]
    },
    {
      "cell_type": "code",
      "source": [
        "#2480\n",
        "A,B,C= map(int,input().split())\n",
        "\n",
        "if A==B==C :\n",
        "    reward = 10000+A*1000\n",
        "elif A==B and B!=C :\n",
        "    reward = 1000+A*100\n",
        "elif B==C and C!=A :\n",
        "    reward = 1000+B*100\n",
        "elif A==C and B!=A :\n",
        "    reward = 1000+A*100\n",
        "else : \n",
        "    reward = max(A,B,C)*100\n",
        "\n",
        "print(reward)"
      ],
      "metadata": {
        "id": "xaslG_K8V_u1",
        "colab": {
          "base_uri": "https://localhost:8080/"
        },
        "outputId": "d58b66f9-e518-47e8-fe39-84366102f849"
      },
      "execution_count": null,
      "outputs": [
        {
          "output_type": "stream",
          "name": "stdout",
          "text": [
            "6 2 5\n",
            "600\n"
          ]
        }
      ]
    },
    {
      "cell_type": "code",
      "source": [
        "#10156\n",
        "K,N,M = map(int,input().split())\n",
        "money = (K*N) - M\n",
        "if money < 0 :\n",
        "    money = 0\n",
        "print(money)"
      ],
      "metadata": {
        "colab": {
          "base_uri": "https://localhost:8080/"
        },
        "id": "pOHFZJLoKLBZ",
        "outputId": "848e5ec4-d741-4d5e-9eed-51ffe4eb02c3"
      },
      "execution_count": null,
      "outputs": [
        {
          "output_type": "stream",
          "name": "stdout",
          "text": [
            "20 10 320\n",
            "0\n"
          ]
        }
      ]
    },
    {
      "cell_type": "code",
      "source": [
        "#3009\n",
        "x1,y1 = map(int,input().split())\n",
        "x2,y2 = map(int,input().split())\n",
        "x3,y3 = map(int,input().split())\n",
        "\n",
        "if x1 == x2 :\n",
        "  x4 = x3\n",
        "elif x2 == x3 :\n",
        "  x4 = x1\n",
        "elif x3 == x1 :\n",
        "  x4 = x2\n",
        "\n",
        "if y1 == y2 :\n",
        "  y4 = y3\n",
        "elif y2 == y3 :\n",
        "  y4 = y1\n",
        "elif y3 == y1 :\n",
        "  y4 = y2\n",
        "\n",
        "print(x4,end=' ')\n",
        "print(y4)\n"
      ],
      "metadata": {
        "colab": {
          "base_uri": "https://localhost:8080/"
        },
        "id": "9osRB5FEK6bG",
        "outputId": "da99c036-adc5-4194-963e-e4a9356c0e6c"
      },
      "execution_count": null,
      "outputs": [
        {
          "output_type": "stream",
          "name": "stdout",
          "text": [
            "5 5\n",
            "5 7\n",
            "7 5\n",
            "7 7\n"
          ]
        }
      ]
    },
    {
      "cell_type": "code",
      "source": [
        "#2476\n",
        "def Reward(A,B,C):\n",
        "    if A==B==C :\n",
        "      reward = 10000+A*1000\n",
        "    elif A==B and B!=C :\n",
        "      reward = 1000+A*100\n",
        "    elif B==C and C!=A :\n",
        "      reward = 1000+B*100\n",
        "    elif A==C and B!=A :\n",
        "      reward = 1000+A*100\n",
        "    else : \n",
        "      reward = max(A,B,C)*100\n",
        "    return reward\n",
        "\n",
        "N = int(input())\n",
        "money = []\n",
        "for _ in range(N):\n",
        "  A,B,C = map(int,input().split())\n",
        "  money.append(Reward(A,B,C))\n",
        "\n",
        "print(max(money))"
      ],
      "metadata": {
        "colab": {
          "base_uri": "https://localhost:8080/"
        },
        "id": "pf8wLQ1ZM5pk",
        "outputId": "76cad188-1cfc-40e9-cfbb-ff4dc3b2ed2e"
      },
      "execution_count": null,
      "outputs": [
        {
          "output_type": "stream",
          "name": "stdout",
          "text": [
            "3\n",
            "3 3 6\n",
            "2 2 2\n",
            "6 2 5\n",
            "12000\n"
          ]
        }
      ]
    },
    {
      "cell_type": "code",
      "source": [],
      "metadata": {
        "id": "I0UWUIYyOprp",
        "outputId": "4cc5205e-2702-43e3-bfc1-d4192c0d29d1",
        "colab": {
          "base_uri": "https://localhost:8080/"
        }
      },
      "execution_count": null,
      "outputs": [
        {
          "output_type": "execute_result",
          "data": {
            "text/plain": [
              "3"
            ]
          },
          "metadata": {},
          "execution_count": 10
        }
      ]
    },
    {
      "cell_type": "code",
      "source": [],
      "metadata": {
        "id": "S79p5TMKOrhX"
      },
      "execution_count": null,
      "outputs": []
    }
  ]
}